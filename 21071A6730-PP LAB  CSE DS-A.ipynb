{
 "cells": [
  {
   "cell_type": "code",
   "execution_count": 1,
   "id": "cd00a1c7",
   "metadata": {},
   "outputs": [
    {
     "ename": "IndentationError",
     "evalue": "expected an indented block (<ipython-input-1-3d2a26afa079>, line 5)",
     "output_type": "error",
     "traceback": [
      "\u001b[1;36m  File \u001b[1;32m\"<ipython-input-1-3d2a26afa079>\"\u001b[1;36m, line \u001b[1;32m5\u001b[0m\n\u001b[1;33m    print(\"Its odd number\")\u001b[0m\n\u001b[1;37m    ^\u001b[0m\n\u001b[1;31mIndentationError\u001b[0m\u001b[1;31m:\u001b[0m expected an indented block\n"
     ]
    }
   ],
   "source": [
    "# 1.INDENTATION ERROR\n",
    "n=int(input(\"Enter Number:\"))\n",
    "if n%2==0:\n",
    " print(\"Its even number\")\n",
    "else:\n",
    "print(\"Its odd number\")"
   ]
  },
  {
   "cell_type": "code",
   "execution_count": 5,
   "id": "c3d9fd6f",
   "metadata": {},
   "outputs": [
    {
     "name": "stdout",
     "output_type": "stream",
     "text": [
      "Enter Number:7\n",
      "Its odd number\n"
     ]
    }
   ],
   "source": [
    "#correct code\n",
    "n=int(input(\"Enter Number:\"))\n",
    "if n%2==0:\n",
    "    print(\"Its even number\")\n",
    "else:\n",
    "    print(\"Its odd number\")"
   ]
  },
  {
   "cell_type": "code",
   "execution_count": 7,
   "id": "ace03a73",
   "metadata": {},
   "outputs": [
    {
     "name": "stdout",
     "output_type": "stream",
     "text": [
      "Enter first number:10\n",
      "Enter second number:25\n",
      "5\n"
     ]
    }
   ],
   "source": [
    "# 2.GCD OF TWO NUMBERS\n",
    "def gcd(a,b):\n",
    "    if a == 0:\n",
    "        return b\n",
    "    return gcd(b % a, a)\n",
    "a=int(input(\"Enter first number:\"))\n",
    "b=int(input(\"Enter second number:\"))\n",
    "res1=gcd(a,b)\n",
    "print(res1)"
   ]
  },
  {
   "cell_type": "code",
   "execution_count": 10,
   "id": "6c2fc969",
   "metadata": {},
   "outputs": [
    {
     "name": "stdout",
     "output_type": "stream",
     "text": [
      "10\n",
      "It is even number\n"
     ]
    }
   ],
   "source": [
    "# 3.EVEN OR ODD\n",
    "n=int(input())\n",
    "if(n%2==0):\n",
    "    print(\"It is even number\")\n",
    "else:\n",
    "    print(\"It is odd number\")\n"
   ]
  },
  {
   "cell_type": "code",
   "execution_count": 11,
   "id": "c46262f9",
   "metadata": {},
   "outputs": [
    {
     "name": "stdout",
     "output_type": "stream",
     "text": [
      "Enter the Number:9\n",
      "0 1 2 3 4 5 6 7 8 "
     ]
    }
   ],
   "source": [
    "# 4.FOR LOOP\n",
    "n=int(input(\"Enter the Number:\"))\n",
    "for i in range(n):\n",
    " print(i,end=\" \")"
   ]
  },
  {
   "cell_type": "code",
   "execution_count": 14,
   "id": "0f2847cc",
   "metadata": {},
   "outputs": [
    {
     "name": "stdout",
     "output_type": "stream",
     "text": [
      "Enter number of terms:5\n",
      "0 1 1 2 3 "
     ]
    }
   ],
   "source": [
    "# 5.FIBINOCCI SERIES\n",
    "n=int(input(\"Enter number of terms:\"))\n",
    "count=0\n",
    "n1=0\n",
    "n2=1\n",
    "while count < n:\n",
    " print(n1,end=\" \")\n",
    " temp = n1 + n2\n",
    " n1 = n2\n",
    " n2 = temp\n",
    " count += 1\n"
   ]
  },
  {
   "cell_type": "code",
   "execution_count": 26,
   "id": "8e496eb8",
   "metadata": {},
   "outputs": [
    {
     "name": "stdout",
     "output_type": "stream",
     "text": [
      "1 10\n",
      "Prime numbers between 1 and 10 are:\n",
      "2\n",
      "3\n",
      "5\n",
      "7\n"
     ]
    }
   ],
   "source": [
    "# 6.prime numbers\n",
    "lower,upper=map(int,input().split())\n",
    "print(\"Prime numbers between\", lower, \"and\", upper, \"are:\")\n",
    "\n",
    "for num in range(lower, upper + 1):\n",
    "   if num > 1:\n",
    "       for i in range(2, num):\n",
    "           if (num % i) == 0:\n",
    "               break\n",
    "       else:\n",
    "           print(num)"
   ]
  },
  {
   "cell_type": "code",
   "execution_count": 27,
   "id": "a343bfa4",
   "metadata": {},
   "outputs": [
    {
     "name": "stdout",
     "output_type": "stream",
     "text": [
      "14.857142857142858\n",
      "9\n",
      "4\n"
     ]
    }
   ],
   "source": [
    "# 7.mean,median,mode\n",
    "l= [2,44,8,9,4,33,4]\n",
    "mean=sum(l)/len(l)\n",
    "median=l[len(l)//2]\n",
    "mode=max(set(l), key = l.count)\n",
    "print(mean)\n",
    "print(median)\n",
    "print(mode)"
   ]
  },
  {
   "cell_type": "code",
   "execution_count": 29,
   "id": "30d61f68",
   "metadata": {},
   "outputs": [
    {
     "name": "stdout",
     "output_type": "stream",
     "text": [
      "[ 2  3  5  7 89  5]\n",
      "[ 4 88  1  6 90  2]\n"
     ]
    }
   ],
   "source": [
    "# 8.conversion to numpy\n",
    "import numpy as np\n",
    "li=[2,3,5,7,89,5]\n",
    "tup=(4,88,1,6,90,2)\n",
    "arr=np.array(li)\n",
    "arr1=np.array(tup)\n",
    "print(arr)\n",
    "print(arr1)\n"
   ]
  },
  {
   "cell_type": "code",
   "execution_count": 33,
   "id": "ee754825",
   "metadata": {},
   "outputs": [
    {
     "name": "stdout",
     "output_type": "stream",
     "text": [
      "1 2 3\n",
      "2 3 4\n",
      "{2, 3}\n"
     ]
    }
   ],
   "source": [
    "# 9.common element in array\n",
    "lst1=[int(x) for x in input().split()]\n",
    "lst2=[int(x) for x in input().split()]\n",
    "common=[]\n",
    "for i in lst1:\n",
    "    if i in lst2:\n",
    "        common.append(i)\n",
    "print(set(common))"
   ]
  },
  {
   "cell_type": "code",
   "execution_count": 34,
   "id": "ae62ce6f",
   "metadata": {},
   "outputs": [
    {
     "name": "stdout",
     "output_type": "stream",
     "text": [
      "hi this is teja\n",
      "{'h': 2, 'i': 3, ' ': 3, 't': 2, 's': 2, 'e': 1, 'j': 1, 'a': 1}\n"
     ]
    }
   ],
   "source": [
    "# 10.count and store in dictionary\n",
    "dic={}\n",
    "st=input()\n",
    "st_li=list(st)\n",
    "for i in st_li:\n",
    "    if i not in dic:\n",
    "        dic[i]=1\n",
    "    else:\n",
    "        dic[i]=dic[i]+1\n",
    "print(dic)"
   ]
  },
  {
   "cell_type": "code",
   "execution_count": 36,
   "id": "3c0ee12f",
   "metadata": {},
   "outputs": [
    {
     "name": "stdout",
     "output_type": "stream",
     "text": [
      "1 2 3\n",
      "a b c\n",
      "{'1': 'c', '2': 'c', '3': 'c'}\n"
     ]
    }
   ],
   "source": [
    "# 11.combine lists to dictionary\n",
    "li1=[x for x in input().split()]\n",
    "li2=[x for x in input().split()]\n",
    "dic={}\n",
    "for i in li1:\n",
    "    for j in li2:\n",
    "        dic[i]=j\n",
    "print(dic)        \n",
    "        "
   ]
  },
  {
   "cell_type": "code",
   "execution_count": 37,
   "id": "88f1d9a3",
   "metadata": {},
   "outputs": [
    {
     "name": "stdout",
     "output_type": "stream",
     "text": [
      "enter the stringtejeswar\n",
      "t\n",
      "yes it starts\n"
     ]
    }
   ],
   "source": [
    "# 12.check if string starts with a specific character\n",
    "str=input(\"enter the string\")\n",
    "char=input()\n",
    "if(str[0]==char):\n",
    "    print(\"yes it starts\")\n",
    "else:print(\"no it doesn't\")"
   ]
  },
  {
   "cell_type": "code",
   "execution_count": 41,
   "id": "ee99a004",
   "metadata": {},
   "outputs": [
    {
     "name": "stdout",
     "output_type": "stream",
     "text": [
      "enter the stringweereew\n",
      "palindrome\n"
     ]
    }
   ],
   "source": [
    "# 13.palindrome or not\n",
    "str=input(\"enter the string\")\n",
    "rev=str[::-1]\n",
    "if(str==rev):print(\"palindrome\")\n",
    "else:print(\"not a palindrome\")"
   ]
  },
  {
   "cell_type": "code",
   "execution_count": 44,
   "id": "e04c0bee",
   "metadata": {},
   "outputs": [
    {
     "name": "stdout",
     "output_type": "stream",
     "text": [
      "enter the stringhi this is teja\n",
      "hi,this,is,teja\n"
     ]
    }
   ],
   "source": [
    "# 14.split and join\n",
    "str=input(\"enter the string\")\n",
    "str1=str.split(\" \")\n",
    "str2=\",\".join(str1)\n",
    "print(str2)"
   ]
  },
  {
   "cell_type": "code",
   "execution_count": 51,
   "id": "309c4050",
   "metadata": {},
   "outputs": [
    {
     "name": "stdout",
     "output_type": "stream",
     "text": [
      "enter the string welcome to python\n",
      "[' ', ' ', 'c', 'e', 'e', 'h', 'l', 'm', 'n', 'o', 'o', 'o', 'p', 't', 't', 'w', 'y']\n"
     ]
    }
   ],
   "source": [
    "# 15.sort a string\n",
    "str=input(\"enter the string \")\n",
    "print(sorted(str))"
   ]
  },
  {
   "cell_type": "code",
   "execution_count": 64,
   "id": "b0a47790",
   "metadata": {},
   "outputs": [
    {
     "name": "stdout",
     "output_type": "stream",
     "text": [
      "1.Addition\n",
      "2.Subtraction\n",
      "3.Multiply\n",
      "4.Division\n",
      "1\n",
      "Enter First value:2\n",
      "Enter Second value:3\n",
      "5\n"
     ]
    }
   ],
   "source": [
    "# 16.calculator using function\n",
    "def add(x,y):\n",
    "    print(x+y)\n",
    "def sub(x,y):\n",
    "    print(x-y)\n",
    "def mult(x,y):\n",
    "    print(x*y)\n",
    "def div(x,y):\n",
    "    print(x/y)\n",
    "print(\"1.Addition\\n2.Subtraction\\n3.Multiply\\n4.Division\")\n",
    "n=int(input())\n",
    "x=int(input(\"Enter First value:\"))\n",
    "y=int(input(\"Enter Second value:\"))\n",
    "if n==1:\n",
    "    add(x,y)\n",
    "elif n==2:\n",
    "    sub(x,y)\n",
    "elif n==3:\n",
    "    mult(x,y)\n",
    "elif n==4:\n",
    "    div(x,y)\n",
    "else:\n",
    "    print(\"No option\")"
   ]
  },
  {
   "cell_type": "code",
   "execution_count": 73,
   "id": "ac364927",
   "metadata": {},
   "outputs": [
    {
     "name": "stdout",
     "output_type": "stream",
     "text": [
      "enter the number 5\n",
      "factorial of  5 is 120\n"
     ]
    }
   ],
   "source": [
    "#17.factorial using recursion\n",
    "def factorial(x):\n",
    "    res=1\n",
    "    if(x==1 or x==0):\n",
    "        return res\n",
    "    else:\n",
    "        return x* factorial(x-1)\n",
    "n=int(input(\"enter the number \"))\n",
    "res=factorial(n)\n",
    "print(\"factorial of \", n ,\"is\",res)\n",
    "        \n",
    "        \n",
    "    "
   ]
  },
  {
   "cell_type": "code",
   "execution_count": 78,
   "id": "8d0aa5ce",
   "metadata": {},
   "outputs": [
    {
     "name": "stdout",
     "output_type": "stream",
     "text": [
      "1 2 2 3 4 4 5\n",
      "[2, 4]\n"
     ]
    }
   ],
   "source": [
    "# 18.duplicates in list\n",
    "def dup(l1):\n",
    "    s=set(l1)\n",
    "    for i in s:\n",
    "        if(l1.count(i)>1):\n",
    "            res_l.append(i)        \n",
    "l1=list(map(int,input().split()))\n",
    "res_l=[]\n",
    "dup(l1)\n",
    "print(res_l)"
   ]
  },
  {
   "cell_type": "code",
   "execution_count": 80,
   "id": "77dcd3e4",
   "metadata": {},
   "outputs": [
    {
     "name": "stdout",
     "output_type": "stream",
     "text": [
      "1 2 2 3 3 4 5 6\n",
      "[1, 4, 5, 6]\n"
     ]
    }
   ],
   "source": [
    "# 19.unique elements in list\n",
    "def unique(l):\n",
    "    s=set(l)\n",
    "    for i in s:\n",
    "        if(l.count(i)<2):\n",
    "            res_l.append(i)\n",
    "    \n",
    "l=list(map(int,input().split()))\n",
    "res_l=[]\n",
    "unique(l)\n",
    "print(res_l)\n"
   ]
  },
  {
   "cell_type": "code",
   "execution_count": 83,
   "id": "c9583453",
   "metadata": {},
   "outputs": [
    {
     "name": "stdout",
     "output_type": "stream",
     "text": [
      "1 5 4 2\n",
      "40\n"
     ]
    }
   ],
   "source": [
    "# 20.cummulative multiplication of a list\n",
    "def cummul(l):\n",
    "    res=1\n",
    "    for i in l:\n",
    "        res=res*i\n",
    "    return res\n",
    "\n",
    "\n",
    "l=list(map(int,input().split()))\n",
    "x=cummul(l)\n",
    "print(x)"
   ]
  },
  {
   "cell_type": "code",
   "execution_count": 86,
   "id": "c6de895b",
   "metadata": {},
   "outputs": [
    {
     "name": "stdout",
     "output_type": "stream",
     "text": [
      "1 2 3 4 5\n",
      "[5, 4, 3, 2, 1]\n"
     ]
    }
   ],
   "source": [
    "# 21.reverse a list\n",
    "def reverse(lis):\n",
    "    orgi_li=lis\n",
    "    for i in range(len(orgi_li)):\n",
    "        rev_lis.append(lis.pop())\n",
    "    return rev_lis\n",
    "li=[int(x) for x in input().split()]\n",
    "rev_lis=[]\n",
    "result =reverse(li)\n",
    "print(result)\n"
   ]
  },
  {
   "cell_type": "code",
   "execution_count": 87,
   "id": "aad34efd",
   "metadata": {},
   "outputs": [
    {
     "name": "stdout",
     "output_type": "stream",
     "text": [
      "Enter first number:5\n",
      "Enter second number:25\n",
      "25 5\n"
     ]
    }
   ],
   "source": [
    "# 22. gcd and lcm \n",
    "def gcd(a,b):\n",
    "    if a == 0:\n",
    "        return b\n",
    "    return gcd(b % a, a)\n",
    "def lcm(res1):\n",
    "     return (a // res1)* b\n",
    "a=int(input(\"Enter first number:\"))\n",
    "b=int(input(\"Enter second number:\"))\n",
    "res1=gcd(a,b)\n",
    "res2=lcm(res1)\n",
    "print(res2,res1)"
   ]
  },
  {
   "cell_type": "code",
   "execution_count": null,
   "id": "d54fb28c",
   "metadata": {},
   "outputs": [],
   "source": []
  }
 ],
 "metadata": {
  "kernelspec": {
   "display_name": "Python 3",
   "language": "python",
   "name": "python3"
  },
  "language_info": {
   "codemirror_mode": {
    "name": "ipython",
    "version": 3
   },
   "file_extension": ".py",
   "mimetype": "text/x-python",
   "name": "python",
   "nbconvert_exporter": "python",
   "pygments_lexer": "ipython3",
   "version": "3.8.8"
  }
 },
 "nbformat": 4,
 "nbformat_minor": 5
}
