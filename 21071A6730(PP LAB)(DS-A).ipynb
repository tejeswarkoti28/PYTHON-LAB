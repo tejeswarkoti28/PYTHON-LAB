{
 "cells": [
  {
   "cell_type": "code",
   "execution_count": 1,
   "id": "b6d86c2a",
   "metadata": {},
   "outputs": [],
   "source": [
    "#1.running instructions \n",
    "#1.a shift+enter-> run cell\n",
    "#1.b ctrl+s->save\n",
    "#1.c ctrl+m+b->new cell\n",
    "#1.d ctrl+m+d->delete cell\n",
    "#1.e shift+/->comment "
   ]
  },
  {
   "cell_type": "code",
   "execution_count": 9,
   "id": "27303ea7",
   "metadata": {},
   "outputs": [
    {
     "ename": "IndentationError",
     "evalue": "expected an indented block (2993939262.py, line 7)",
     "output_type": "error",
     "traceback": [
      "\u001b[1;36m  Input \u001b[1;32mIn [9]\u001b[1;36m\u001b[0m\n\u001b[1;33m    print(\"odd number\")\u001b[0m\n\u001b[1;37m    ^\u001b[0m\n\u001b[1;31mIndentationError\u001b[0m\u001b[1;31m:\u001b[0m expected an indented block\n"
     ]
    }
   ],
   "source": [
    "#2 raise indentation error\n",
    "#2.a error code\n",
    "n=int(input(\"enter a number:\"))\n",
    "if n%2==0:\n",
    "    print(\"even number\")\n",
    "else:\n",
    "print(\"odd number\")"
   ]
  },
  {
   "cell_type": "code",
   "execution_count": 3,
   "id": "e0cadfc4",
   "metadata": {},
   "outputs": [
    {
     "name": "stdout",
     "output_type": "stream",
     "text": [
      "enter a number:4\n",
      "even number\n"
     ]
    }
   ],
   "source": [
    "#2.b correction code\n",
    "n=int(input(\"enter a number:\"))\n",
    "if n%2==0:\n",
    "    print(\"even number\")\n",
    "else:\n",
    "    print(\"odd number\")"
   ]
  },
  {
   "cell_type": "code",
   "execution_count": 5,
   "id": "9a8c2620",
   "metadata": {},
   "outputs": [
    {
     "name": "stdout",
     "output_type": "stream",
     "text": [
      "enter first number:7\n",
      "enter second number:8\n",
      "1\n"
     ]
    }
   ],
   "source": [
    "#3 GCD OF TWO NUMBERS\n",
    "def gcd(a,b):\n",
    "    if a==0:\n",
    "        return b\n",
    "    return gcd(b%a,a)\n",
    "a=int(input(\"enter first number:\"))\n",
    "b=int(input(\"enter second number:\"))\n",
    "res1=gcd(a,b)\n",
    "print(res1)"
   ]
  },
  {
   "cell_type": "code",
   "execution_count": 8,
   "id": "ecbff64a",
   "metadata": {},
   "outputs": [
    {
     "ename": "NameError",
     "evalue": "name 'v' is not defined",
     "output_type": "error",
     "traceback": [
      "\u001b[1;31m---------------------------------------------------------------------------\u001b[0m",
      "\u001b[1;31mNameError\u001b[0m                                 Traceback (most recent call last)",
      "Input \u001b[1;32mIn [8]\u001b[0m, in \u001b[0;36m<cell line: 3>\u001b[1;34m()\u001b[0m\n\u001b[0;32m      1\u001b[0m \u001b[38;5;66;03m#4 SUM OF TWO NUMBERS\u001b[39;00m\n\u001b[0;32m      2\u001b[0m \u001b[38;5;28;01mimport\u001b[39;00m \u001b[38;5;21;01msys\u001b[39;00m\n\u001b[1;32m----> 3\u001b[0m x\u001b[38;5;241m=\u001b[39m\u001b[38;5;28mint\u001b[39m(sys\u001b[38;5;241m.\u001b[39margv[\u001b[43mv\u001b[49m])\n\u001b[0;32m      4\u001b[0m y\u001b[38;5;241m=\u001b[39m\u001b[38;5;28mint\u001b[39m(sys\u001b[38;5;241m.\u001b[39mardv[\u001b[38;5;241m2\u001b[39m])\n\u001b[0;32m      5\u001b[0m \u001b[38;5;28msum\u001b[39m\u001b[38;5;241m=\u001b[39mx\u001b[38;5;241m+\u001b[39my\n",
      "\u001b[1;31mNameError\u001b[0m: name 'v' is not defined"
     ]
    }
   ],
   "source": [
    "#4 SUM OF TWO NUMBERS\n",
    "import sys\n",
    "x=int(sys.argv[v])\n",
    "y=int(sys.ardv[2])\n",
    "sum=x+y\n",
    "print(sum)"
   ]
  },
  {
   "cell_type": "code",
   "execution_count": 10,
   "id": "fce99bbe",
   "metadata": {},
   "outputs": [
    {
     "name": "stdout",
     "output_type": "stream",
     "text": [
      "34\n",
      "it is even number\n"
     ]
    }
   ],
   "source": [
    "#5 EVEN OR ODD\n",
    "n=int(input())\n",
    "if n%2==0:\n",
    "    print(\"it is even number\")\n",
    "else:\n",
    "    print(\"odd number\")"
   ]
  },
  {
   "cell_type": "code",
   "execution_count": 11,
   "id": "862b2629",
   "metadata": {},
   "outputs": [
    {
     "name": "stdout",
     "output_type": "stream",
     "text": [
      "enter a number:6\n",
      "0 1 2 3 4 5 "
     ]
    }
   ],
   "source": [
    "#6 LOOPING OVER A SEQUENCE\n",
    "n=int(input(\"enter a number:\"))\n",
    "for i in range(n):\n",
    "    print(i,end=\" \")"
   ]
  },
  {
   "cell_type": "code",
   "execution_count": 13,
   "id": "067b91fd",
   "metadata": {},
   "outputs": [
    {
     "name": "stdout",
     "output_type": "stream",
     "text": [
      "enter number of terms:5\n",
      "0 1 1 2 3 "
     ]
    }
   ],
   "source": [
    "#7 FIBONACCI SEQUENCE\n",
    "n=int(input(\"enter number of terms:\"))\n",
    "count=0\n",
    "n1=0\n",
    "n2=1\n",
    "while count<n:\n",
    "    print(n1,end=\" \")\n",
    "    temp=n1+n2\n",
    "    n1=n2\n",
    "    n2=temp\n",
    "    count+=1"
   ]
  },
  {
   "cell_type": "code",
   "execution_count": 15,
   "id": "cfbe5ca7",
   "metadata": {},
   "outputs": [
    {
     "name": "stdout",
     "output_type": "stream",
     "text": [
      "enter the range:0 20\n",
      "2 3 5 7 11 13 17 19 "
     ]
    }
   ],
   "source": [
    "#8 PRINT ALL PRIME NUMBERS\n",
    "n,m=map(int,input(\"enter the range:\").split())\n",
    "for i in range(n,m):\n",
    "    if i>1:\n",
    "        for j in range(2,i):\n",
    "            if i%j==0:\n",
    "                break\n",
    "        else:\n",
    "            print(i,end=\" \")\n",
    "                "
   ]
  },
  {
   "cell_type": "code",
   "execution_count": 17,
   "id": "af0d2155",
   "metadata": {},
   "outputs": [
    {
     "name": "stdout",
     "output_type": "stream",
     "text": [
      "100.6\n",
      "43\n",
      "55\n"
     ]
    }
   ],
   "source": [
    "#9 FINDING MEAN,MEDIAN,MODE\n",
    "l=[55,342,43,55,8]\n",
    "mean=sum(l)/len(l)\n",
    "median=l[len(l)//2]\n",
    "mode=max(set(l),key=l.count)\n",
    "print(mean)\n",
    "print(median)\n",
    "print(mode)"
   ]
  },
  {
   "cell_type": "code",
   "execution_count": 18,
   "id": "cbee0c3e",
   "metadata": {},
   "outputs": [
    {
     "name": "stdout",
     "output_type": "stream",
     "text": [
      "[ 2  3  5  7 89  5]\n",
      "[ 4 88  1  6 90  2]\n"
     ]
    }
   ],
   "source": [
    "#10 CONVERT A LIST AND TUPLE INTO ARRAY\n",
    "import numpy as np\n",
    "li=[2,3,5,7,89,5]\n",
    "tup=(4,88,1,6,90,2)\n",
    "arr=np.array(li)\n",
    "arr1=np.array(tup)\n",
    "print(arr)\n",
    "print(arr1)"
   ]
  },
  {
   "cell_type": "code",
   "execution_count": 20,
   "id": "7ee0c9fc",
   "metadata": {},
   "outputs": [
    {
     "name": "stdout",
     "output_type": "stream",
     "text": [
      "1 2 23\n",
      "2 23 4\n",
      "{2, 23}\n"
     ]
    }
   ],
   "source": [
    "#11 COMMON VALUES IN TWO ARRAYS\n",
    "list1=[int(x) for x in input().split()]\n",
    "list2=[int(x) for x in input().split()]\n",
    "common=[]\n",
    "for i in list1:\n",
    "    if i in list2:\n",
    "        common.append(i)\n",
    "print(set(common))"
   ]
  },
  {
   "cell_type": "code",
   "execution_count": 21,
   "id": "4efd77b6",
   "metadata": {},
   "outputs": [
    {
     "name": "stdout",
     "output_type": "stream",
     "text": [
      "harshitha\n",
      "{'h': 3, 'a': 2, 'r': 1, 's': 1, 'i': 1, 't': 1}\n"
     ]
    }
   ],
   "source": [
    "#12 NUMBER OF CHARACTERS IN A STRING\n",
    "dic={}\n",
    "st=input()\n",
    "st_li=list(st)\n",
    "for i in st_li:\n",
    "    if i not in dic:\n",
    "        dic[i]=1\n",
    "    else:\n",
    "        dic[i]=dic[i]+1\n",
    "print(dic)"
   ]
  },
  {
   "cell_type": "code",
   "execution_count": 22,
   "id": "a914ed07",
   "metadata": {},
   "outputs": [
    {
     "name": "stdout",
     "output_type": "stream",
     "text": [
      "enter first list:a b c\n",
      "enter second list:1 2 3\n",
      "{'a': 1, 'b': 2, 'c': 3}\n"
     ]
    }
   ],
   "source": [
    "#13 COMBINE LIST INTO DICTIONARIES\n",
    "li1=[(x) for x in input(\"enter first list:\").split()]\n",
    "li2=[int(x) for x in input(\"enter second list:\").split()]\n",
    "dic={}\n",
    "for i in li1:\n",
    "    for j in li2:\n",
    "        dic[i]=j\n",
    "        li2.remove(j)\n",
    "        break\n",
    "print(dic)"
   ]
  },
  {
   "cell_type": "code",
   "execution_count": 23,
   "id": "3130fdb8",
   "metadata": {},
   "outputs": [
    {
     "name": "stdout",
     "output_type": "stream",
     "text": [
      "enter a string:harshitha\n",
      "enter the character:h\n",
      "yes,!! string starts with a specified character\n"
     ]
    }
   ],
   "source": [
    "#14 WHETHER A STRING STARTS WITH SPECIFIC CHARACTERS\n",
    "st=input(\"enter a string:\")\n",
    "cha=input(\"enter the character:\")\n",
    "if(st[0]==cha):\n",
    "    print(\"yes,!! string starts with a specified character\")\n",
    "else:\n",
    "    print(\"NO,!! it will not start\")"
   ]
  },
  {
   "cell_type": "code",
   "execution_count": 25,
   "id": "bc50f63c",
   "metadata": {},
   "outputs": [
    {
     "name": "stdout",
     "output_type": "stream",
     "text": [
      "enter the string:rotator\n",
      "it is a palindrome\n"
     ]
    }
   ],
   "source": [
    "#15 PALINDROME OR NOT\n",
    "st=input(\"enter the string:\")\n",
    "st=st.lower()\n",
    "rev_st=st[::-1]\n",
    "if(st==rev_st):\n",
    "    print(\"it is a palindrome\")\n",
    "else:\n",
    "    print(\"it is not a plaindrome\")"
   ]
  },
  {
   "cell_type": "markdown",
   "id": "94ef4fe1",
   "metadata": {},
   "source": [
    "\n"
   ]
  },
  {
   "cell_type": "code",
   "execution_count": 26,
   "id": "e7b6a16c",
   "metadata": {},
   "outputs": [
    {
     "name": "stdout",
     "output_type": "stream",
     "text": [
      "enter the string:hi this is harshitha\n",
      "hi.this.is.harshitha\n"
     ]
    }
   ],
   "source": [
    "#16 SPLIT AND JOIN A STRING\n",
    "string=input(\"enter the string:\")\n",
    "st_li=string.split(\" \")\n",
    "res_string=\".\".join(st_li)\n",
    "print(res_string)"
   ]
  },
  {
   "cell_type": "code",
   "execution_count": 27,
   "id": "a61a910f",
   "metadata": {},
   "outputs": [
    {
     "name": "stdout",
     "output_type": "stream",
     "text": [
      "enter the string:hi a bde\n",
      "['a', 'bde', 'hi']\n"
     ]
    }
   ],
   "source": [
    "#17 SORT WORDS IN ALPHABETICAL ORDER \n",
    "string=input(\"enter the string:\")\n",
    "str_li=string.split(\" \")\n",
    "sor_str=sorted(str_li)\n",
    "print(sor_str)"
   ]
  },
  {
   "cell_type": "code",
   "execution_count": 2,
   "id": "97accd8a",
   "metadata": {},
   "outputs": [
    {
     "name": "stdout",
     "output_type": "stream",
     "text": [
      "reverse string is !!baL nohtyP\n"
     ]
    }
   ],
   "source": [
    "#18 PRINT EACH LINE OF A FILE IN REVERSE ORDER\n",
    "f=open(\"write.txt\",\"r\")\n",
    "s=\"\"\n",
    "for i in f:\n",
    "    s=s+i[::-1]\n",
    "print(\"reverse string is\",s)\n",
    "f.close()"
   ]
  },
  {
   "cell_type": "code",
   "execution_count": 3,
   "id": "d012198e",
   "metadata": {},
   "outputs": [
    {
     "name": "stdout",
     "output_type": "stream",
     "text": [
      "nuymber of characters: -1\n",
      "number of words: 1\n",
      "number of lines: 0\n"
     ]
    }
   ],
   "source": [
    "#19 NUMBER OF CHARACTERS,WORDS AMD LINES IN A FILE\n",
    "f=open(\"file.txt\",\"r\")\n",
    "s=\"\"\n",
    "for i in f:\n",
    "    s=s+i\n",
    "print(\"nuymber of characters:\",len(s)-s.count(''))\n",
    "print(\"number of words:\",s.count(''))\n",
    "print(\"number of lines:\",s.count('\\n'))"
   ]
  },
  {
   "cell_type": "code",
   "execution_count": 4,
   "id": "2d91fa95",
   "metadata": {},
   "outputs": [
    {
     "name": "stdout",
     "output_type": "stream",
     "text": [
      "{}\n"
     ]
    }
   ],
   "source": [
    "#20 COUNT FREQUENCY OF CHARACTERS IN A GUVEN FILE\n",
    "f=open(\"file.txt\",\"r\")\n",
    "s=\"\"\n",
    "for i in f:\n",
    "    s=s+i\n",
    "d={}\n",
    "for i in s:\n",
    "    if i in d:\n",
    "        d[i]+=1\n",
    "    else:\n",
    "        d[i]=1\n",
    "print(d)"
   ]
  },
  {
   "cell_type": "code",
   "execution_count": 38,
   "id": "254d63e1",
   "metadata": {},
   "outputs": [
    {
     "name": "stdout",
     "output_type": "stream",
     "text": [
      "1.addition\n",
      "2.subtraction\n",
      "3.multiplication\n",
      "4.division\n",
      "1\n",
      "enter the first value3\n",
      "enter the second value4\n",
      "7\n"
     ]
    }
   ],
   "source": [
    "#21 SIMPLE CALCULATOR USING FUNCTIONS\n",
    "def add(x,y):\n",
    "    print(x+y)\n",
    "def sub(x,y):\n",
    "    print(x-y)\n",
    "def mul(x,y):\n",
    "    print(x*y)\n",
    "def div(x,y):\n",
    "    print(x/y)\n",
    "print(\"1.addition\\n2.subtraction\\n3.multiplication\\n4.division\")\n",
    "n=int(input())\n",
    "x=int(input(\"enter the first value\"))\n",
    "y=int(input(\"enter the second value\"))\n",
    "if n==1:\n",
    "    add(x,y)\n",
    "elif n==2:\n",
    "    sub(x,y)\n",
    "elif n==3:\n",
    "    mul(x,y)\n",
    "elif n==4:\n",
    "    div(x,y)\n",
    "else:\n",
    "    print(\"no option\")\n"
   ]
  },
  {
   "cell_type": "code",
   "execution_count": 39,
   "id": "d1c8cf09",
   "metadata": {},
   "outputs": [
    {
     "name": "stdout",
     "output_type": "stream",
     "text": [
      "enter the number:5\n",
      "120\n"
     ]
    }
   ],
   "source": [
    "#22 FACTORIAL OF A GIVEN NUMBER\n",
    "def factorial(n):\n",
    "    if(n==0):\n",
    "        return 1\n",
    "    elif(n==1):\n",
    "        return 1\n",
    "    else:\n",
    "        return n*factorial(n-1)\n",
    "n=int(input(\"enter the number:\"))\n",
    "result=factorial(n)\n",
    "print(result)"
   ]
  },
  {
   "cell_type": "markdown",
   "id": "711ae246",
   "metadata": {},
   "source": []
  },
  {
   "cell_type": "code",
   "execution_count": 42,
   "id": "e25b37e2",
   "metadata": {},
   "outputs": [
    {
     "name": "stdout",
     "output_type": "stream",
     "text": [
      "1 5 3 1 1 8 9 5\n",
      "[1, 5]\n"
     ]
    }
   ],
   "source": [
    "#23 FIND ALL DUPLICATES IN A LIST\n",
    "def duplicate(lis):\n",
    "    li_se=set(lis)\n",
    "    for i in li_se:\n",
    "        if(lis.count(i)>1):\n",
    "            res_li.append(i)\n",
    "    return res_li\n",
    "li=[int(x) for x in input().split()]\n",
    "res_li=[]\n",
    "result=duplicate(li)\n",
    "print(result)"
   ]
  },
  {
   "cell_type": "code",
   "execution_count": 43,
   "id": "d7822808",
   "metadata": {},
   "outputs": [
    {
     "name": "stdout",
     "output_type": "stream",
     "text": [
      "1 5 1 3 7 5 2 3 9 8\n",
      "[2, 7, 8, 9]\n"
     ]
    }
   ],
   "source": [
    "#24 FIND ALL THE UNIQUE ELEMENTS IN A LIST\n",
    "def unique(lis):\n",
    "    li_se=set(lis)\n",
    "    for i in li_se:\n",
    "        if(lis.count(i)==1):\n",
    "            res_li.append(i)\n",
    "    return res_li\n",
    "li=[int(x) for x in input().split()]\n",
    "res_li=[]\n",
    "result=unique(li)\n",
    "print(result)"
   ]
  },
  {
   "cell_type": "markdown",
   "id": "7f470807",
   "metadata": {},
   "source": []
  },
  {
   "cell_type": "code",
   "execution_count": 44,
   "id": "673c20a9",
   "metadata": {},
   "outputs": [
    {
     "name": "stdout",
     "output_type": "stream",
     "text": [
      "10 4 5 8\n",
      "1600\n"
     ]
    }
   ],
   "source": [
    "#25 COMPUTE CUMULATIVE PRODUCT OF A LIST OF NUMBERS\n",
    "def cummulative_product(lis):\n",
    "    mul=1\n",
    "    for i in lis:\n",
    "        mul=i*mul\n",
    "    return mul\n",
    "li=[int(x) for x in input().split()]\n",
    "result=cummulative_product(li)\n",
    "print(result)"
   ]
  },
  {
   "cell_type": "code",
   "execution_count": 45,
   "id": "0acf9aad",
   "metadata": {},
   "outputs": [
    {
     "name": "stdout",
     "output_type": "stream",
     "text": [
      "4 6 7 8 2 1\n",
      "[1, 2, 8, 7, 6, 4]\n"
     ]
    }
   ],
   "source": [
    "#26 PRINT LIST IN REVERSE ORDER\n",
    "def reverse(lis):\n",
    "    orgi_li=lis\n",
    "    for i in range(len(orgi_li)):\n",
    "        rev_lis.append(lis.pop())\n",
    "    return rev_lis\n",
    "li=[int(x) for x in input().split()]\n",
    "rev_lis=[]\n",
    "result=reverse(li)\n",
    "print(result)"
   ]
  },
  {
   "cell_type": "code",
   "execution_count": 46,
   "id": "330c6409",
   "metadata": {},
   "outputs": [
    {
     "name": "stdout",
     "output_type": "stream",
     "text": [
      "enter the first  number:4\n",
      "enter second number:3\n",
      "12 1\n"
     ]
    }
   ],
   "source": [
    "#27 COMPUTE GCD,LCM OF TWO NUMBERS\n",
    "def gcd(a,b):\n",
    "    if a==0:\n",
    "        return b\n",
    "    return gcd(b%a,a)\n",
    "def lcm(res1):\n",
    "    return (a//res1)*b\n",
    "a=int(input(\"enter the first  number:\"))\n",
    "b=int(input(\"enter second number:\"))\n",
    "res1=gcd(a,b)\n",
    "res2=lcm(res1)\n",
    "print(res2,res1)"
   ]
  },
  {
   "cell_type": "code",
   "execution_count": null,
   "id": "b744af1e",
   "metadata": {},
   "outputs": [],
   "source": []
  }
 ],
 "metadata": {
  "kernelspec": {
   "display_name": "Python 3 (ipykernel)",
   "language": "python",
   "name": "python3"
  },
  "language_info": {
   "codemirror_mode": {
    "name": "ipython",
    "version": 3
   },
   "file_extension": ".py",
   "mimetype": "text/x-python",
   "name": "python",
   "nbconvert_exporter": "python",
   "pygments_lexer": "ipython3",
   "version": "3.9.12"
  }
 },
 "nbformat": 4,
 "nbformat_minor": 5
}
